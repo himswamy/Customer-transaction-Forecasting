{
 "cells": [
  {
   "cell_type": "markdown",
   "metadata": {},
   "source": [
    "# Forecast the future Income & Expenses for a customer"
   ]
  },
  {
   "cell_type": "markdown",
   "metadata": {},
   "source": [
    "-------------------------------------"
   ]
  },
  {
   "cell_type": "markdown",
   "metadata": {},
   "source": [
    "# <a id='1'>1. Introduction</a>"
   ]
  },
  {
   "cell_type": "markdown",
   "metadata": {},
   "source": [
    "We have a json file that consist of customer transcation. As of now we just have 96 rows & 7 columns. The data contains account and transcations details of single customer. In this exercise we will forecast the Income & expense for the customer for next six months under different Income & Spend categories."
   ]
  },
  {
   "cell_type": "markdown",
   "metadata": {},
   "source": [
    " # <a id='2'>2. Import the necessary libraries </a>"
   ]
  },
  {
   "cell_type": "code",
   "execution_count": 1161,
   "metadata": {},
   "outputs": [],
   "source": [
    "import numpy as np\n",
    "import pandas as pd\n",
    "import seaborn as sns\n",
    "import matplotlib as plt\n",
    "import json\n",
    "import holidays\n",
    "import datetime\n",
    "import matplotlib.pyplot as plt\n",
    "from fbprophet import Prophet\n",
    "# Suppress warnings \n",
    "import warnings\n",
    "warnings.filterwarnings('ignore')\n",
    "%matplotlib inline"
   ]
  },
  {
   "cell_type": "markdown",
   "metadata": {},
   "source": [
    " # <a id='3'>3. Retrieving the Data</a>"
   ]
  },
  {
   "cell_type": "code",
   "execution_count": 1105,
   "metadata": {},
   "outputs": [],
   "source": [
    "data = pd.read_json('data.json', orient='columns')"
   ]
  },
  {
   "cell_type": "code",
   "execution_count": 1106,
   "metadata": {},
   "outputs": [
    {
     "data": {
      "text/plain": [
       "(96, 7)"
      ]
     },
     "execution_count": 1106,
     "metadata": {},
     "output_type": "execute_result"
    }
   ],
   "source": [
    "data.shape\n"
   ]
  },
  {
   "cell_type": "markdown",
   "metadata": {},
   "source": [
    "# <a id='4'>4. Data Exploration & Manipulation</a>"
   ]
  },
  {
   "cell_type": "code",
   "execution_count": 1108,
   "metadata": {},
   "outputs": [
    {
     "data": {
      "text/plain": [
       "Index(['accountNo', 'amount', 'bookingDate', 'bookingType', 'booking_id',\n",
       "       'partnerAccountIBAN', 'user_id'],\n",
       "      dtype='object')"
      ]
     },
     "execution_count": 1108,
     "metadata": {},
     "output_type": "execute_result"
    }
   ],
   "source": [
    "data.columns"
   ]
  },
  {
   "cell_type": "code",
   "execution_count": 1109,
   "metadata": {},
   "outputs": [
    {
     "name": "stdout",
     "output_type": "stream",
     "text": [
      "Missing values in each variable: \n",
      "accountNo             0\n",
      "amount                0\n",
      "bookingDate           0\n",
      "bookingType           0\n",
      "booking_id            0\n",
      "partnerAccountIBAN    0\n",
      "user_id               0\n",
      "dtype: int64\n"
     ]
    }
   ],
   "source": [
    "print(f\"Missing values in each variable: \\n{data.isnull().sum()}\")"
   ]
  },
  {
   "cell_type": "code",
   "execution_count": 1110,
   "metadata": {},
   "outputs": [
    {
     "name": "stdout",
     "output_type": "stream",
     "text": [
      "List of categories for bookingType:\n",
      "Total categories:  8\n",
      "---------------\n",
      "ATM\n",
      "Rent\n",
      "Salary\n",
      "Installment\n",
      "Unknown\n",
      "Childbenefit\n",
      "GasStation\n",
      "CarInsurance\n"
     ]
    }
   ],
   "source": [
    "print(\"List of categories for bookingType:\")\n",
    "print(\"Total categories: \",len(data.bookingType.unique()))\n",
    "print(\"-\"*15)\n",
    "for i in data.bookingType.unique():\n",
    "    print(i)"
   ]
  },
  {
   "cell_type": "markdown",
   "metadata": {},
   "source": [
    "## <a id='4-1'>4.1 Creating Features</a>"
   ]
  },
  {
   "cell_type": "code",
   "execution_count": 1123,
   "metadata": {},
   "outputs": [],
   "source": [
    "data['Dates'] = pd.to_datetime(data['bookingDate']).dt.date\n",
    "data['Dates'] = pd.to_datetime(data['Dates'], errors='coerce')\n",
    "data['Time'] = pd.to_datetime(data['bookingDate']).dt.time\n",
    "data['weekday_name'] = data['Dates'].dt.weekday_name\n",
    "data['bookingDate'] = pd.to_datetime(data['bookingDate'], errors='coerce')\n",
    "data['year'] = data['bookingDate'].dt.year\n",
    "data['month'] = data['bookingDate'].dt.month\n",
    "data['day'] = data['bookingDate'].dt.day\n",
    "data['weekday'] = data['Dates'].dt.weekday  # Return week_day as an integer, where Monday is 0 and Sunday is 6.\n",
    "data['hour'] = data['bookingDate'].dt.hour"
   ]
  },
  {
   "cell_type": "code",
   "execution_count": 1124,
   "metadata": {},
   "outputs": [
    {
     "data": {
      "text/html": [
       "<div>\n",
       "<style scoped>\n",
       "    .dataframe tbody tr th:only-of-type {\n",
       "        vertical-align: middle;\n",
       "    }\n",
       "\n",
       "    .dataframe tbody tr th {\n",
       "        vertical-align: top;\n",
       "    }\n",
       "\n",
       "    .dataframe thead th {\n",
       "        text-align: right;\n",
       "    }\n",
       "</style>\n",
       "<table border=\"1\" class=\"dataframe\">\n",
       "  <thead>\n",
       "    <tr style=\"text-align: right;\">\n",
       "      <th></th>\n",
       "      <th>accountNo</th>\n",
       "      <th>amount</th>\n",
       "      <th>bookingDate</th>\n",
       "      <th>bookingType</th>\n",
       "      <th>booking_id</th>\n",
       "      <th>partnerAccountIBAN</th>\n",
       "      <th>user_id</th>\n",
       "      <th>Dates</th>\n",
       "      <th>Time</th>\n",
       "      <th>weekday_name</th>\n",
       "      <th>Holiday</th>\n",
       "      <th>year</th>\n",
       "      <th>month</th>\n",
       "      <th>day</th>\n",
       "      <th>weekday</th>\n",
       "      <th>hour</th>\n",
       "    </tr>\n",
       "  </thead>\n",
       "  <tbody>\n",
       "    <tr>\n",
       "      <th>0</th>\n",
       "      <td>781</td>\n",
       "      <td>-50</td>\n",
       "      <td>2015-07-15 02:00:03</td>\n",
       "      <td>ATM</td>\n",
       "      <td>1</td>\n",
       "      <td>None</td>\n",
       "      <td>106</td>\n",
       "      <td>2015-07-15</td>\n",
       "      <td>02:00:03</td>\n",
       "      <td>Wednesday</td>\n",
       "      <td>False</td>\n",
       "      <td>2015</td>\n",
       "      <td>7</td>\n",
       "      <td>15</td>\n",
       "      <td>2</td>\n",
       "      <td>2</td>\n",
       "    </tr>\n",
       "    <tr>\n",
       "      <th>1</th>\n",
       "      <td>781</td>\n",
       "      <td>-1000</td>\n",
       "      <td>2015-07-29 02:00:03</td>\n",
       "      <td>Rent</td>\n",
       "      <td>2</td>\n",
       "      <td>DE513</td>\n",
       "      <td>106</td>\n",
       "      <td>2015-07-29</td>\n",
       "      <td>02:00:03</td>\n",
       "      <td>Wednesday</td>\n",
       "      <td>False</td>\n",
       "      <td>2015</td>\n",
       "      <td>7</td>\n",
       "      <td>29</td>\n",
       "      <td>2</td>\n",
       "      <td>2</td>\n",
       "    </tr>\n",
       "    <tr>\n",
       "      <th>2</th>\n",
       "      <td>781</td>\n",
       "      <td>3566</td>\n",
       "      <td>2015-07-29 02:00:03</td>\n",
       "      <td>Salary</td>\n",
       "      <td>3</td>\n",
       "      <td>DE512</td>\n",
       "      <td>106</td>\n",
       "      <td>2015-07-29</td>\n",
       "      <td>02:00:03</td>\n",
       "      <td>Wednesday</td>\n",
       "      <td>False</td>\n",
       "      <td>2015</td>\n",
       "      <td>7</td>\n",
       "      <td>29</td>\n",
       "      <td>2</td>\n",
       "      <td>2</td>\n",
       "    </tr>\n",
       "    <tr>\n",
       "      <th>3</th>\n",
       "      <td>781</td>\n",
       "      <td>-160</td>\n",
       "      <td>2015-07-29 02:00:03</td>\n",
       "      <td>Installment</td>\n",
       "      <td>4</td>\n",
       "      <td>DE38900</td>\n",
       "      <td>106</td>\n",
       "      <td>2015-07-29</td>\n",
       "      <td>02:00:03</td>\n",
       "      <td>Wednesday</td>\n",
       "      <td>False</td>\n",
       "      <td>2015</td>\n",
       "      <td>7</td>\n",
       "      <td>29</td>\n",
       "      <td>2</td>\n",
       "      <td>2</td>\n",
       "    </tr>\n",
       "    <tr>\n",
       "      <th>4</th>\n",
       "      <td>781</td>\n",
       "      <td>450</td>\n",
       "      <td>2015-07-29 02:00:03</td>\n",
       "      <td>Unknown</td>\n",
       "      <td>5</td>\n",
       "      <td>DE40042</td>\n",
       "      <td>106</td>\n",
       "      <td>2015-07-29</td>\n",
       "      <td>02:00:03</td>\n",
       "      <td>Wednesday</td>\n",
       "      <td>False</td>\n",
       "      <td>2015</td>\n",
       "      <td>7</td>\n",
       "      <td>29</td>\n",
       "      <td>2</td>\n",
       "      <td>2</td>\n",
       "    </tr>\n",
       "  </tbody>\n",
       "</table>\n",
       "</div>"
      ],
      "text/plain": [
       "   accountNo  amount         bookingDate  bookingType  booking_id  \\\n",
       "0        781     -50 2015-07-15 02:00:03          ATM           1   \n",
       "1        781   -1000 2015-07-29 02:00:03         Rent           2   \n",
       "2        781    3566 2015-07-29 02:00:03       Salary           3   \n",
       "3        781    -160 2015-07-29 02:00:03  Installment           4   \n",
       "4        781     450 2015-07-29 02:00:03      Unknown           5   \n",
       "\n",
       "  partnerAccountIBAN  user_id      Dates      Time weekday_name  Holiday  \\\n",
       "0               None      106 2015-07-15  02:00:03    Wednesday    False   \n",
       "1              DE513      106 2015-07-29  02:00:03    Wednesday    False   \n",
       "2              DE512      106 2015-07-29  02:00:03    Wednesday    False   \n",
       "3            DE38900      106 2015-07-29  02:00:03    Wednesday    False   \n",
       "4            DE40042      106 2015-07-29  02:00:03    Wednesday    False   \n",
       "\n",
       "   year  month  day  weekday  hour  \n",
       "0  2015      7   15        2     2  \n",
       "1  2015      7   29        2     2  \n",
       "2  2015      7   29        2     2  \n",
       "3  2015      7   29        2     2  \n",
       "4  2015      7   29        2     2  "
      ]
     },
     "execution_count": 1124,
     "metadata": {},
     "output_type": "execute_result"
    }
   ],
   "source": [
    "data.head()"
   ]
  },
  {
   "cell_type": "markdown",
   "metadata": {},
   "source": [
    "\n",
    "\n",
    "\n",
    "\n",
    "## <a id='4-2'>4.2 Mark Holidays</a>"
   ]
  },
  {
   "cell_type": "code",
   "execution_count": 1125,
   "metadata": {},
   "outputs": [],
   "source": [
    "# Assuming the data is for a German customer\n",
    "\n",
    "de_holidays = holidays.Germany()\n",
    "data['Holiday'] = data['Dates'].isin(de_holidays)"
   ]
  },
  {
   "cell_type": "code",
   "execution_count": 1126,
   "metadata": {},
   "outputs": [
    {
     "data": {
      "text/html": [
       "<div>\n",
       "<style scoped>\n",
       "    .dataframe tbody tr th:only-of-type {\n",
       "        vertical-align: middle;\n",
       "    }\n",
       "\n",
       "    .dataframe tbody tr th {\n",
       "        vertical-align: top;\n",
       "    }\n",
       "\n",
       "    .dataframe thead th {\n",
       "        text-align: right;\n",
       "    }\n",
       "</style>\n",
       "<table border=\"1\" class=\"dataframe\">\n",
       "  <thead>\n",
       "    <tr style=\"text-align: right;\">\n",
       "      <th></th>\n",
       "      <th>accountNo</th>\n",
       "      <th>amount</th>\n",
       "      <th>bookingDate</th>\n",
       "      <th>bookingType</th>\n",
       "      <th>booking_id</th>\n",
       "      <th>partnerAccountIBAN</th>\n",
       "      <th>user_id</th>\n",
       "      <th>Dates</th>\n",
       "      <th>Time</th>\n",
       "      <th>weekday_name</th>\n",
       "      <th>Holiday</th>\n",
       "      <th>year</th>\n",
       "      <th>month</th>\n",
       "      <th>day</th>\n",
       "      <th>weekday</th>\n",
       "      <th>hour</th>\n",
       "    </tr>\n",
       "  </thead>\n",
       "  <tbody>\n",
       "    <tr>\n",
       "      <th>0</th>\n",
       "      <td>781</td>\n",
       "      <td>-50</td>\n",
       "      <td>2015-07-15 02:00:03</td>\n",
       "      <td>ATM</td>\n",
       "      <td>1</td>\n",
       "      <td>None</td>\n",
       "      <td>106</td>\n",
       "      <td>2015-07-15</td>\n",
       "      <td>02:00:03</td>\n",
       "      <td>Wednesday</td>\n",
       "      <td>False</td>\n",
       "      <td>2015</td>\n",
       "      <td>7</td>\n",
       "      <td>15</td>\n",
       "      <td>2</td>\n",
       "      <td>2</td>\n",
       "    </tr>\n",
       "    <tr>\n",
       "      <th>1</th>\n",
       "      <td>781</td>\n",
       "      <td>-1000</td>\n",
       "      <td>2015-07-29 02:00:03</td>\n",
       "      <td>Rent</td>\n",
       "      <td>2</td>\n",
       "      <td>DE513</td>\n",
       "      <td>106</td>\n",
       "      <td>2015-07-29</td>\n",
       "      <td>02:00:03</td>\n",
       "      <td>Wednesday</td>\n",
       "      <td>False</td>\n",
       "      <td>2015</td>\n",
       "      <td>7</td>\n",
       "      <td>29</td>\n",
       "      <td>2</td>\n",
       "      <td>2</td>\n",
       "    </tr>\n",
       "  </tbody>\n",
       "</table>\n",
       "</div>"
      ],
      "text/plain": [
       "   accountNo  amount         bookingDate bookingType  booking_id  \\\n",
       "0        781     -50 2015-07-15 02:00:03         ATM           1   \n",
       "1        781   -1000 2015-07-29 02:00:03        Rent           2   \n",
       "\n",
       "  partnerAccountIBAN  user_id      Dates      Time weekday_name  Holiday  \\\n",
       "0               None      106 2015-07-15  02:00:03    Wednesday    False   \n",
       "1              DE513      106 2015-07-29  02:00:03    Wednesday    False   \n",
       "\n",
       "   year  month  day  weekday  hour  \n",
       "0  2015      7   15        2     2  \n",
       "1  2015      7   29        2     2  "
      ]
     },
     "execution_count": 1126,
     "metadata": {},
     "output_type": "execute_result"
    }
   ],
   "source": [
    "data.head(2)"
   ]
  },
  {
   "cell_type": "markdown",
   "metadata": {},
   "source": [
    "## <a id='4-3'>4.3 Data visualization</a>"
   ]
  },
  {
   "cell_type": "markdown",
   "metadata": {},
   "source": [
    "----------------------------------"
   ]
  },
  {
   "cell_type": "markdown",
   "metadata": {},
   "source": [
    "# Recognise Income and Spending patterns of the user"
   ]
  },
  {
   "cell_type": "raw",
   "metadata": {},
   "source": [
    "# Majority  of ATM transcation and hightest in December 2015"
   ]
  },
  {
   "cell_type": "code",
   "execution_count": 1131,
   "metadata": {},
   "outputs": [
    {
     "data": {
      "image/png": "[encoded data removed]",
      "text/plain": [
       "<Figure size 720x720 with 1 Axes>"
      ]
     },
     "metadata": {},
     "output_type": "display_data"
    }
   ],
   "source": [
    "plt.figure(1, figsize=(10,10))\n",
    "data['bookingType'].value_counts().head(15).plot.pie(autopct=\"%1.1f%%\")\n",
    "plt.show()"
   ]
  },
  {
   "cell_type": "code",
   "execution_count": 1132,
   "metadata": {},
   "outputs": [],
   "source": [
    "itemNames = data['bookingType'].value_counts().index\n",
    "itemValues = data['bookingType'].value_counts().values"
   ]
  },
  {
   "cell_type": "code",
   "execution_count": 1133,
   "metadata": {},
   "outputs": [
    {
     "data": {
      "image/png": "[encoded data removed]",
      "text/plain": [
       "<Figure size 864x864 with 1 Axes>"
      ]
     },
     "metadata": {
      "needs_background": "light"
     },
     "output_type": "display_data"
    }
   ],
   "source": [
    "plt.figure(figsize=(12,12))\n",
    "plt.ylabel('Values', fontsize='medium')\n",
    "plt.xlabel('Items', fontsize='medium')\n",
    "plt.title('Top categories of expenses for an individual')\n",
    "plt.bar(itemNames[:10],itemValues[:10], width = 0.7, color=\"blue\",linewidth=0.4)\n",
    "plt.show()"
   ]
  },
  {
   "cell_type": "code",
   "execution_count": 1134,
   "metadata": {},
   "outputs": [
    {
     "data": {
      "text/plain": [
       "2016    48\n",
       "2015    48\n",
       "Name: year, dtype: int64"
      ]
     },
     "execution_count": 1134,
     "metadata": {},
     "output_type": "execute_result"
    },
    {
     "data": {
      "image/png": "[encoded data removed]",
      "text/plain": [
       "<Figure size 720x360 with 1 Axes>"
      ]
     },
     "metadata": {
      "needs_background": "light"
     },
     "output_type": "display_data"
    }
   ],
   "source": [
    "yearlyTable = data['year'].value_counts().plot(kind='bar',figsize=(10,5))\n",
    "yearlyTable.set_xlabel(\"\")\n",
    "data['year'].value_counts().head()"
   ]
  },
  {
   "cell_type": "code",
   "execution_count": 1137,
   "metadata": {},
   "outputs": [
    {
     "data": {
      "text/html": [
       "<div>\n",
       "<style scoped>\n",
       "    .dataframe tbody tr th:only-of-type {\n",
       "        vertical-align: middle;\n",
       "    }\n",
       "\n",
       "    .dataframe tbody tr th {\n",
       "        vertical-align: top;\n",
       "    }\n",
       "\n",
       "    .dataframe thead th {\n",
       "        text-align: right;\n",
       "    }\n",
       "</style>\n",
       "<table border=\"1\" class=\"dataframe\">\n",
       "  <thead>\n",
       "    <tr style=\"text-align: right;\">\n",
       "      <th></th>\n",
       "      <th>amount</th>\n",
       "    </tr>\n",
       "    <tr>\n",
       "      <th>monthlyTransaction</th>\n",
       "      <th></th>\n",
       "    </tr>\n",
       "  </thead>\n",
       "  <tbody>\n",
       "    <tr>\n",
       "      <th>2015-07</th>\n",
       "      <td>7</td>\n",
       "    </tr>\n",
       "    <tr>\n",
       "      <th>2015-08</th>\n",
       "      <td>8</td>\n",
       "    </tr>\n",
       "    <tr>\n",
       "      <th>2015-09</th>\n",
       "      <td>8</td>\n",
       "    </tr>\n",
       "    <tr>\n",
       "      <th>2015-10</th>\n",
       "      <td>9</td>\n",
       "    </tr>\n",
       "    <tr>\n",
       "      <th>2015-11</th>\n",
       "      <td>8</td>\n",
       "    </tr>\n",
       "    <tr>\n",
       "      <th>2015-12</th>\n",
       "      <td>8</td>\n",
       "    </tr>\n",
       "    <tr>\n",
       "      <th>2016-01</th>\n",
       "      <td>9</td>\n",
       "    </tr>\n",
       "    <tr>\n",
       "      <th>2016-02</th>\n",
       "      <td>8</td>\n",
       "    </tr>\n",
       "    <tr>\n",
       "      <th>2016-03</th>\n",
       "      <td>8</td>\n",
       "    </tr>\n",
       "    <tr>\n",
       "      <th>2016-04</th>\n",
       "      <td>8</td>\n",
       "    </tr>\n",
       "    <tr>\n",
       "      <th>2016-05</th>\n",
       "      <td>7</td>\n",
       "    </tr>\n",
       "    <tr>\n",
       "      <th>2016-06</th>\n",
       "      <td>8</td>\n",
       "    </tr>\n",
       "  </tbody>\n",
       "</table>\n",
       "</div>"
      ],
      "text/plain": [
       "                    amount\n",
       "monthlyTransaction        \n",
       "2015-07                  7\n",
       "2015-08                  8\n",
       "2015-09                  8\n",
       "2015-10                  9\n",
       "2015-11                  8\n",
       "2015-12                  8\n",
       "2016-01                  9\n",
       "2016-02                  8\n",
       "2016-03                  8\n",
       "2016-04                  8\n",
       "2016-05                  7\n",
       "2016-06                  8"
      ]
     },
     "execution_count": 1137,
     "metadata": {},
     "output_type": "execute_result"
    },
    {
     "data": {
      "image/png": "[encoded data removed]",
      "text/plain": [
       "<Figure size 720x432 with 1 Axes>"
      ]
     },
     "metadata": {
      "needs_background": "light"
     },
     "output_type": "display_data"
    }
   ],
   "source": [
    "data['monthlyTransaction'] = pd.to_datetime(data['bookingDate']).dt.to_period('M')\n",
    "monthlyTransaction = data[['monthlyTransaction','amount']].groupby(['monthlyTransaction'], as_index=False).count().sort_values(by='monthlyTransaction')\n",
    "monthlyTransaction.set_index('monthlyTransaction' ,inplace=True)\n",
    "\n",
    "monthlyTable = monthlyTransaction.plot(kind='bar',figsize=(10,6))\n",
    "monthlyTable.set_xlabel(\"\")\n",
    "\n",
    "monthlyTransaction"
   ]
  },
  {
   "cell_type": "code",
   "execution_count": 1138,
   "metadata": {},
   "outputs": [],
   "source": [
    "# Convert the amount to absoulte value.."
   ]
  },
  {
   "cell_type": "code",
   "execution_count": 1139,
   "metadata": {},
   "outputs": [],
   "source": [
    "data['Absolute_amount']= abs(data['amount'])"
   ]
  },
  {
   "cell_type": "code",
   "execution_count": 1141,
   "metadata": {},
   "outputs": [],
   "source": [
    "data['monthly'] = pd.to_datetime(data['Dates']).dt.to_period('M')\n",
    "monthlyTransactionForbookingType = data[['monthly','Absolute_amount', 'bookingType']].groupby(['monthly', 'bookingType'], as_index=False).sum().sort_values(by='monthly')\n",
    "monthlyTransactionForbookingType.set_index('monthly' ,inplace=True)"
   ]
  },
  {
   "cell_type": "code",
   "execution_count": 1142,
   "metadata": {},
   "outputs": [
    {
     "data": {
      "image/png": "[encoded data removed]",
      "text/plain": [
       "<Figure size 720x432 with 1 Axes>"
      ]
     },
     "metadata": {
      "needs_background": "light"
     },
     "output_type": "display_data"
    }
   ],
   "source": [
    "atm_withdrawls = monthlyTransactionForbookingType[monthlyTransactionForbookingType['bookingType']=='ATM'].plot(kind='bar', figsize=(10,6))\n",
    "atm_withdrawls.set_xlabel(\"ATM Withdrawls\")\n",
    "\n",
    "plt.ylabel('Absolute_amount', fontsize=16)\n",
    "plt.xlabel('month', fontsize=16)\n",
    "plt.title(\"Monthly ATM Withdrawl\", fontsize=16);"
   ]
  },
  {
   "cell_type": "markdown",
   "metadata": {},
   "source": [
    "## <b> Mark the Income & Spend Indicators </b>"
   ]
  },
  {
   "cell_type": "raw",
   "metadata": {},
   "source": [
    "## Exploring the income and Spend pattern of the Individual and looking for trend and spikes on the different       Categories of Income & Spend"
   ]
  },
  {
   "cell_type": "markdown",
   "metadata": {},
   "source": [
    "-----------------------------------"
   ]
  },
  {
   "cell_type": "code",
   "execution_count": 1145,
   "metadata": {},
   "outputs": [],
   "source": [
    "data['Indicator_In_Sp'] = np.where(data['amount']>0, 'Income', 'Spend')"
   ]
  },
  {
   "cell_type": "code",
   "execution_count": 1146,
   "metadata": {},
   "outputs": [
    {
     "data": {
      "text/html": [
       "<div>\n",
       "<style scoped>\n",
       "    .dataframe tbody tr th:only-of-type {\n",
       "        vertical-align: middle;\n",
       "    }\n",
       "\n",
       "    .dataframe tbody tr th {\n",
       "        vertical-align: top;\n",
       "    }\n",
       "\n",
       "    .dataframe thead th {\n",
       "        text-align: right;\n",
       "    }\n",
       "</style>\n",
       "<table border=\"1\" class=\"dataframe\">\n",
       "  <thead>\n",
       "    <tr style=\"text-align: right;\">\n",
       "      <th></th>\n",
       "      <th></th>\n",
       "      <th>Absolute_amount</th>\n",
       "    </tr>\n",
       "    <tr>\n",
       "      <th>Indicator_In_Sp</th>\n",
       "      <th>bookingType</th>\n",
       "      <th></th>\n",
       "    </tr>\n",
       "  </thead>\n",
       "  <tbody>\n",
       "    <tr>\n",
       "      <th rowspan=\"3\" valign=\"top\">Income</th>\n",
       "      <th>Childbenefit</th>\n",
       "      <td>2280</td>\n",
       "    </tr>\n",
       "    <tr>\n",
       "      <th>Salary</th>\n",
       "      <td>51419</td>\n",
       "    </tr>\n",
       "    <tr>\n",
       "      <th>Unknown</th>\n",
       "      <td>25400</td>\n",
       "    </tr>\n",
       "    <tr>\n",
       "      <th rowspan=\"5\" valign=\"top\">Spend</th>\n",
       "      <th>ATM</th>\n",
       "      <td>1900</td>\n",
       "    </tr>\n",
       "    <tr>\n",
       "      <th>CarInsurance</th>\n",
       "      <td>320</td>\n",
       "    </tr>\n",
       "    <tr>\n",
       "      <th>GasStation</th>\n",
       "      <td>2042</td>\n",
       "    </tr>\n",
       "    <tr>\n",
       "      <th>Installment</th>\n",
       "      <td>1920</td>\n",
       "    </tr>\n",
       "    <tr>\n",
       "      <th>Rent</th>\n",
       "      <td>13800</td>\n",
       "    </tr>\n",
       "  </tbody>\n",
       "</table>\n",
       "</div>"
      ],
      "text/plain": [
       "                              Absolute_amount\n",
       "Indicator_In_Sp bookingType                  \n",
       "Income          Childbenefit             2280\n",
       "                Salary                  51419\n",
       "                Unknown                 25400\n",
       "Spend           ATM                      1900\n",
       "                CarInsurance              320\n",
       "                GasStation               2042\n",
       "                Installment              1920\n",
       "                Rent                    13800"
      ]
     },
     "execution_count": 1146,
     "metadata": {},
     "output_type": "execute_result"
    }
   ],
   "source": [
    "pd.pivot_table(data[['Indicator_In_Sp','bookingType','Absolute_amount']], index=['Indicator_In_Sp','bookingType'], aggfunc='sum')"
   ]
  },
  {
   "cell_type": "code",
   "execution_count": 1147,
   "metadata": {},
   "outputs": [
    {
     "data": {
      "image/png": "[encoded data removed]",
      "text/plain": [
       "<Figure size 720x432 with 1 Axes>"
      ]
     },
     "metadata": {
      "needs_background": "light"
     },
     "output_type": "display_data"
    }
   ],
   "source": [
    "\n",
    "Income_spend_pattern = data[['monthly','Indicator_In_Sp','bookingType','Absolute_amount']].groupby(['monthly', 'Indicator_In_Sp'], as_index=False).sum().sort_values(by='monthly')\n",
    "Income_spend_pattern.set_index('monthly' ,inplace=True)\n",
    "Income_spend_pattern\n",
    "\n",
    "Income_trend = Income_spend_pattern[Income_spend_pattern['Indicator_In_Sp']=='Income'].plot(kind='bar', figsize=(10,6))\n",
    "Income_trend.set_xlabel(\"Income Trend\")\n",
    "\n",
    "plt.ylabel('Absolute_amount', fontsize=16)\n",
    "plt.xlabel('month', fontsize=16)\n",
    "plt.title(\"Monthly Income Trend\", fontsize=16);\n"
   ]
  },
  {
   "cell_type": "code",
   "execution_count": 1151,
   "metadata": {},
   "outputs": [
    {
     "data": {
      "text/plain": [
       "<matplotlib.axes._subplots.AxesSubplot at 0x1c347a15f8>"
      ]
     },
     "execution_count": 1151,
     "metadata": {},
     "output_type": "execute_result"
    },
    {
     "data": {
      "image/png": "[encoded data removed]",
      "text/plain": [
       "<Figure size 1584x360 with 1 Axes>"
      ]
     },
     "metadata": {
      "needs_background": "light"
     },
     "output_type": "display_data"
    }
   ],
   "source": [
    "data.monthly=data.monthly.astype(str)\n",
    "data_Income = data[['monthly','Indicator_In_Sp','bookingType','Absolute_amount']]\n",
    "\n",
    "data_Income = data_Income[(data_Income['Indicator_In_Sp'] == 'Income')]\n",
    "\n",
    "# plot data\n",
    "fig, ax = plt.subplots(figsize=(22,5))\n",
    "# use unstack()\n",
    "data_Income.groupby(['monthly','bookingType']).sum()['Absolute_amount'].unstack().plot(ax=ax)"
   ]
  },
  {
   "cell_type": "code",
   "execution_count": 1152,
   "metadata": {},
   "outputs": [
    {
     "data": {
      "image/png": "[encoded data removed]",
      "text/plain": [
       "<Figure size 720x432 with 1 Axes>"
      ]
     },
     "metadata": {
      "needs_background": "light"
     },
     "output_type": "display_data"
    }
   ],
   "source": [
    "Income_trend = Income_spend_pattern[Income_spend_pattern['Indicator_In_Sp']=='Spend'].plot(kind='bar', figsize=(10,6))\n",
    "Income_trend.set_xlabel(\"Spend Trend\")\n",
    "\n",
    "plt.ylabel('Absolute_amount', fontsize=16)\n",
    "plt.xlabel('month', fontsize=16)\n",
    "plt.title(\"Monthly Spend Trend\", fontsize=16);"
   ]
  },
  {
   "cell_type": "code",
   "execution_count": 1153,
   "metadata": {},
   "outputs": [
    {
     "data": {
      "text/plain": [
       "<matplotlib.axes._subplots.AxesSubplot at 0x1c368ece48>"
      ]
     },
     "execution_count": 1153,
     "metadata": {},
     "output_type": "execute_result"
    },
    {
     "data": {
      "image/png": "[encoded data removed]",
      "text/plain": [
       "<Figure size 1080x360 with 1 Axes>"
      ]
     },
     "metadata": {
      "needs_background": "light"
     },
     "output_type": "display_data"
    }
   ],
   "source": [
    "data_Spend = data[['monthly','Indicator_In_Sp','bookingType','Absolute_amount']]\n",
    "\n",
    "data_Spend = data_Spend[(data_Spend['Indicator_In_Sp'] == 'Spend')]\n",
    "\n",
    "# plot data\n",
    "fig, ax = plt.subplots(figsize=(15,5))\n",
    "# use unstack()\n",
    "data_Spend.groupby(['monthly','bookingType']).sum()['Absolute_amount'].unstack().plot(ax=ax)"
   ]
  },
  {
   "cell_type": "markdown",
   "metadata": {},
   "source": [
    "---------------------------------------"
   ]
  },
  {
   "cell_type": "markdown",
   "metadata": {},
   "source": [
    "-----------------------------"
   ]
  },
  {
   "cell_type": "markdown",
   "metadata": {},
   "source": [
    "\n",
    "# <a id='5'>5. Analyze & Forecast different category within Income </a>"
   ]
  },
  {
   "cell_type": "markdown",
   "metadata": {},
   "source": [
    "--------------------------------------"
   ]
  },
  {
   "cell_type": "code",
   "execution_count": 1163,
   "metadata": {},
   "outputs": [],
   "source": [
    "Salary = data.loc[data['bookingType'] == 'Salary']\n",
    "Unknown = data.loc[data['bookingType'] == 'Unknown']\n",
    "Salary = Salary.sort_values('monthly')\n",
    "Unknown = Unknown.sort_values('monthly')"
   ]
  },
  {
   "cell_type": "code",
   "execution_count": 1164,
   "metadata": {},
   "outputs": [
    {
     "data": {
      "image/png": "[encoded data removed]",
      "text/plain": [
       "<Figure size 1800x360 with 1 Axes>"
      ]
     },
     "metadata": {
      "needs_background": "light"
     },
     "output_type": "display_data"
    }
   ],
   "source": [
    "plt.figure(figsize=(25, 5))\n",
    "plt.plot(Salary['Dates'], Salary['Absolute_amount'], 'b-', label = 'Salary')\n",
    "\n",
    "plt.legend();"
   ]
  },
  {
   "cell_type": "code",
   "execution_count": 1165,
   "metadata": {},
   "outputs": [],
   "source": [
    "cols = ['accountNo','amount','Dates', 'bookingDate', 'bookingType', 'booking_id',\n",
    "       'partnerAccountIBAN', 'user_id', 'Time', 'weekday_name',\n",
    "       'Holiday', 'year', 'month', 'day', 'weekday', 'hour',\n",
    "       'monthlyTransaction', 'Indicator_In_Sp']\n",
    "Salary.drop(cols, axis=1, inplace=True)\n",
    "Unknown.drop(cols, axis=1, inplace=True)"
   ]
  },
  {
   "cell_type": "markdown",
   "metadata": {},
   "source": [
    "## <a id='5-1'>5.1 Salary </a>"
   ]
  },
  {
   "cell_type": "markdown",
   "metadata": {},
   "source": [
    "## We will be check and update (IF REQUIRED) the outlier & missing value for every category"
   ]
  },
  {
   "cell_type": "markdown",
   "metadata": {},
   "source": [
    "--------------------------------------"
   ]
  },
  {
   "cell_type": "markdown",
   "metadata": {},
   "source": [
    "### Outlier Treatment & Forecasting the transaction "
   ]
  },
  {
   "cell_type": "code",
   "execution_count": 1168,
   "metadata": {},
   "outputs": [
    {
     "data": {
      "text/plain": [
       "Series([], Name: Absolute_amount, dtype: int64)"
      ]
     },
     "execution_count": 1168,
     "metadata": {},
     "output_type": "execute_result"
    }
   ],
   "source": [
    "category=Salary\n",
    "\n",
    "def out_std(s, nstd=3.0, return_thresholds=False):\n",
    "\n",
    "    data_mean, data_std = s.mean(), s.std()\n",
    "    cut_off = data_std * nstd\n",
    "    lower, upper = data_mean - cut_off, data_mean + cut_off\n",
    "    if return_thresholds:\n",
    "        return lower, upper\n",
    "    else:\n",
    "        return [True if x < lower or x > upper else False for x in s]\n",
    "    \n",
    "\n",
    "outlier_mask = out_std(category['Absolute_amount'], nstd=3.0)\n",
    "\n",
    "# Identify the outliers, notice these values are on both low and high\n",
    "\n",
    "category['Absolute_amount'][outlier_mask]\n",
    "\n"
   ]
  },
  {
   "cell_type": "code",
   "execution_count": 1169,
   "metadata": {},
   "outputs": [
    {
     "data": {
      "text/html": [
       "<div>\n",
       "<style scoped>\n",
       "    .dataframe tbody tr th:only-of-type {\n",
       "        vertical-align: middle;\n",
       "    }\n",
       "\n",
       "    .dataframe tbody tr th {\n",
       "        vertical-align: top;\n",
       "    }\n",
       "\n",
       "    .dataframe thead th {\n",
       "        text-align: right;\n",
       "    }\n",
       "</style>\n",
       "<table border=\"1\" class=\"dataframe\">\n",
       "  <thead>\n",
       "    <tr style=\"text-align: right;\">\n",
       "      <th></th>\n",
       "      <th>Sal_monthly</th>\n",
       "      <th>Sal_Absolute_amount</th>\n",
       "      <th>Sal_$\\hat{y}_t$</th>\n",
       "    </tr>\n",
       "  </thead>\n",
       "  <tbody>\n",
       "    <tr>\n",
       "      <th>0</th>\n",
       "      <td>2015-07</td>\n",
       "      <td>3566.0</td>\n",
       "      <td>3566.0</td>\n",
       "    </tr>\n",
       "    <tr>\n",
       "      <th>1</th>\n",
       "      <td>2015-08</td>\n",
       "      <td>5677.0</td>\n",
       "      <td>5677.0</td>\n",
       "    </tr>\n",
       "  </tbody>\n",
       "</table>\n",
       "</div>"
      ],
      "text/plain": [
       "  Sal_monthly  Sal_Absolute_amount  Sal_$\\hat{y}_t$\n",
       "0     2015-07               3566.0           3566.0\n",
       "1     2015-08               5677.0           5677.0"
      ]
     },
     "execution_count": 1169,
     "metadata": {},
     "output_type": "execute_result"
    }
   ],
   "source": [
    "Salary.reset_index(inplace=True,drop = True)\n",
    "ts = pd.Series(Salary['Absolute_amount'].values, index=Salary['monthly'])\n",
    "\n",
    "fit1 = ExponentialSmoothing(ts, seasonal_periods=2, trend='add', seasonal='add').fit(use_boxcox=True)\n",
    "\n",
    "df = pd.DataFrame(np.c_[ts, fit1.level, fit1.slope, fit1.season, fit1.fittedvalues],\n",
    "                  columns=[r'$y_t$',r'$l_t$',r'$b_t$',r'$s_t$',r'$\\hat{y}_t$'],index=ts.index)\n",
    "df_sal = df.append(fit1.forecast(6).rename(r'$\\hat{y}_t$').to_frame(), sort=True)\n",
    "\n",
    "df_sal.reset_index(inplace=True,drop = True)\n",
    "\n",
    "def month_inc(data):\n",
    "    recent_date = data['monthly'].max()\n",
    "    incr_date = pd.date_range(start=recent_date, periods=6, freq='M')\n",
    "    columns = ['monthly']\n",
    "    df = pd.DataFrame(incr_date, columns=columns)\n",
    "    frames = [data, df]\n",
    "    result = pd.concat(frames)\n",
    "    result.reset_index(inplace=True,drop = True)\n",
    "    return result\n",
    "\n",
    "Salary_data = month_inc(Salary)\n",
    "\n",
    "merged_sal = Salary_data.merge(df_sal, left_index=True, right_index=True)\n",
    "\n",
    "merged_sal = merged_sal[['monthly','Absolute_amount','$\\hat{y}_t$']]\n",
    "\n",
    "sal_names = ['Sal_%s' % column for column in merged_sal.columns]\n",
    "merged_sal.columns = sal_names\n",
    "merged_sal.head(2)"
   ]
  },
  {
   "cell_type": "markdown",
   "metadata": {},
   "source": [
    "## <a id='5-2'>5.2 Unknown </a>"
   ]
  },
  {
   "cell_type": "code",
   "execution_count": 1171,
   "metadata": {},
   "outputs": [],
   "source": [
    "category=Unknown\n",
    "\n",
    "def out_std(s, nstd=3.0, return_thresholds=False):\n",
    "\n",
    "    data_mean, data_std = s.mean(), s.std()\n",
    "    cut_off = data_std * nstd\n",
    "    lower, upper = data_mean - cut_off, data_mean + cut_off\n",
    "    if return_thresholds:\n",
    "        return lower, upper\n",
    "    else:\n",
    "        return [True if x < lower or x > upper else False for x in s]\n",
    "    \n",
    "\n",
    "outlier_mask = out_std(category['Absolute_amount'], nstd=3.0)\n",
    "\n",
    "# Identify the outliers, notice these values are on both low and high\n",
    "\n",
    "category['Absolute_amount'][outlier_mask]\n",
    "\n",
    "#  Unknown['Absolute_amount'].median() [replace outlier with median .i.e 450.0 ]\n",
    "\n",
    "median = float(category['Absolute_amount'].median())\n",
    "\n",
    "category[\"Absolute_amount\"] = np.where(category[\"Absolute_amount\"] >=20000, median,category['Absolute_amount'])"
   ]
  },
  {
   "cell_type": "code",
   "execution_count": 1172,
   "metadata": {},
   "outputs": [
    {
     "data": {
      "text/html": [
       "<div>\n",
       "<style scoped>\n",
       "    .dataframe tbody tr th:only-of-type {\n",
       "        vertical-align: middle;\n",
       "    }\n",
       "\n",
       "    .dataframe tbody tr th {\n",
       "        vertical-align: top;\n",
       "    }\n",
       "\n",
       "    .dataframe thead th {\n",
       "        text-align: right;\n",
       "    }\n",
       "</style>\n",
       "<table border=\"1\" class=\"dataframe\">\n",
       "  <thead>\n",
       "    <tr style=\"text-align: right;\">\n",
       "      <th></th>\n",
       "      <th>Unknown_Absolute_amount</th>\n",
       "      <th>Unknown_$\\hat{y}_t$</th>\n",
       "    </tr>\n",
       "  </thead>\n",
       "  <tbody>\n",
       "    <tr>\n",
       "      <th>0</th>\n",
       "      <td>450.0</td>\n",
       "      <td>450.0</td>\n",
       "    </tr>\n",
       "    <tr>\n",
       "      <th>1</th>\n",
       "      <td>450.0</td>\n",
       "      <td>450.0</td>\n",
       "    </tr>\n",
       "  </tbody>\n",
       "</table>\n",
       "</div>"
      ],
      "text/plain": [
       "   Unknown_Absolute_amount  Unknown_$\\hat{y}_t$\n",
       "0                    450.0                450.0\n",
       "1                    450.0                450.0"
      ]
     },
     "execution_count": 1172,
     "metadata": {},
     "output_type": "execute_result"
    }
   ],
   "source": [
    "Unknown.reset_index(inplace=True,drop = True)\n",
    "ts = pd.Series(Unknown['Absolute_amount'].values, index=Unknown['monthly'])\n",
    "fit1 = ExponentialSmoothing(ts, seasonal_periods=2, trend='add', seasonal='add').fit(use_boxcox=True)\n",
    "\n",
    "df = pd.DataFrame(np.c_[ts, fit1.level, fit1.slope, fit1.season, fit1.fittedvalues],\n",
    "                  columns=[r'$y_t$',r'$l_t$',r'$b_t$',r'$s_t$',r'$\\hat{y}_t$'],index=ts.index)\n",
    "df_Unknown = df.append(fit1.forecast(6).rename(r'$\\hat{y}_t$').to_frame(), sort=True)\n",
    "\n",
    "df_Unknown.reset_index(inplace=True,drop = True)\n",
    "\n",
    "def month_inc(data):\n",
    "    recent_date = data['monthly'].max()\n",
    "    incr_date = pd.date_range(start=recent_date, periods=6, freq='M')\n",
    "    columns = ['monthly']\n",
    "    df = pd.DataFrame(incr_date, columns=columns)\n",
    "    frames = [data, df]\n",
    "    result = pd.concat(frames)\n",
    "    result.reset_index(inplace=True,drop = True)\n",
    "    return result\n",
    "\n",
    "Unknown_data = month_inc(Unknown)\n",
    "\n",
    "merged_Unknown = Unknown_data.merge(df_Unknown, left_index=True, right_index=True)\n",
    "\n",
    "merged_Unknown_data = merged_Unknown[['Absolute_amount','$\\hat{y}_t$']]\n",
    "\n",
    "merged_Unknown_names = ['Unknown_%s' % column for column in merged_Unknown_data.columns]\n",
    "merged_Unknown_data.columns = merged_Unknown_names\n",
    "\n",
    "merged_Unknown_data.head(2)"
   ]
  },
  {
   "cell_type": "markdown",
   "metadata": {},
   "source": [
    "---------------------------"
   ]
  },
  {
   "cell_type": "markdown",
   "metadata": {},
   "source": [
    "# <a id='6'>6. Analyze & Forecast different category within Spend </a>"
   ]
  },
  {
   "cell_type": "markdown",
   "metadata": {},
   "source": [
    "-------------------------------"
   ]
  },
  {
   "cell_type": "code",
   "execution_count": 1173,
   "metadata": {},
   "outputs": [],
   "source": [
    "ATM = data.loc[data['bookingType'] == 'ATM']\n",
    "Rent = data.loc[data['bookingType'] == 'Rent']\n",
    "Installment = data.loc[data['bookingType'] == 'Installment']\n",
    "GasStation = data.loc[data['bookingType'] == 'GasStation']\n",
    "CarInsurance = data.loc[data['bookingType'] == 'CarInsurance']"
   ]
  },
  {
   "cell_type": "code",
   "execution_count": 1174,
   "metadata": {},
   "outputs": [],
   "source": [
    "cols = ['accountNo','amount','Dates', 'bookingDate', 'bookingType', 'booking_id',\n",
    "       'partnerAccountIBAN', 'user_id', 'Time', 'weekday_name',\n",
    "       'Holiday', 'year', 'month', 'day', 'weekday', 'hour',\n",
    "       'monthlyTransaction', 'Indicator_In_Sp']\n",
    "ATM.drop(cols, axis=1, inplace=True)\n",
    "Rent.drop(cols, axis=1, inplace=True)\n",
    "Installment.drop(cols, axis=1, inplace=True)\n",
    "GasStation.drop(cols, axis=1, inplace=True)\n",
    "CarInsurance.drop(cols, axis=1, inplace=True)"
   ]
  },
  {
   "cell_type": "markdown",
   "metadata": {},
   "source": [
    "## <a id='6-1'>6.1 ATM </a>"
   ]
  },
  {
   "cell_type": "markdown",
   "metadata": {},
   "source": [
    "### Outlier Treatment & Forecasting the transaction"
   ]
  },
  {
   "cell_type": "code",
   "execution_count": 1181,
   "metadata": {},
   "outputs": [],
   "source": [
    "category=ATM\n",
    "\n",
    "def out_std(s, nstd=3.0, return_thresholds=False):\n",
    "\n",
    "    data_mean, data_std = s.mean(), s.std()\n",
    "    cut_off = data_std * nstd\n",
    "    lower, upper = data_mean - cut_off, data_mean + cut_off\n",
    "    if return_thresholds:\n",
    "        return lower, upper\n",
    "    else:\n",
    "        return [True if x < lower or x > upper else False for x in s]\n",
    "    \n",
    "\n",
    "outlier_mask = out_std(category['Absolute_amount'], nstd=3.0)\n",
    "\n",
    "# Identify the outliers, notice these values are on both low and high\n",
    "\n",
    "category['Absolute_amount'][outlier_mask]\n",
    "\n",
    "\n",
    "median = float(category['Absolute_amount'].median())\n",
    "\n",
    "category[\"Absolute_amount\"] = np.where(category[\"Absolute_amount\"] >=500, median,category['Absolute_amount'])"
   ]
  },
  {
   "cell_type": "code",
   "execution_count": 1182,
   "metadata": {},
   "outputs": [],
   "source": [
    "category_atm = category[['monthly','Absolute_amount']].groupby(['monthly'], as_index=False).sum().sort_values(by='monthly')\n",
    "category_atm.reset_index(inplace=True,drop = True)"
   ]
  },
  {
   "cell_type": "code",
   "execution_count": 1183,
   "metadata": {},
   "outputs": [
    {
     "data": {
      "text/html": [
       "<div>\n",
       "<style scoped>\n",
       "    .dataframe tbody tr th:only-of-type {\n",
       "        vertical-align: middle;\n",
       "    }\n",
       "\n",
       "    .dataframe tbody tr th {\n",
       "        vertical-align: top;\n",
       "    }\n",
       "\n",
       "    .dataframe thead th {\n",
       "        text-align: right;\n",
       "    }\n",
       "</style>\n",
       "<table border=\"1\" class=\"dataframe\">\n",
       "  <thead>\n",
       "    <tr style=\"text-align: right;\">\n",
       "      <th></th>\n",
       "      <th>ATM_Absolute_amount</th>\n",
       "      <th>ATM_$\\hat{y}_t$</th>\n",
       "    </tr>\n",
       "  </thead>\n",
       "  <tbody>\n",
       "    <tr>\n",
       "      <th>0</th>\n",
       "      <td>100.0</td>\n",
       "      <td>118.663965</td>\n",
       "    </tr>\n",
       "    <tr>\n",
       "      <th>1</th>\n",
       "      <td>100.0</td>\n",
       "      <td>129.240408</td>\n",
       "    </tr>\n",
       "  </tbody>\n",
       "</table>\n",
       "</div>"
      ],
      "text/plain": [
       "   ATM_Absolute_amount  ATM_$\\hat{y}_t$\n",
       "0                100.0       118.663965\n",
       "1                100.0       129.240408"
      ]
     },
     "execution_count": 1183,
     "metadata": {},
     "output_type": "execute_result"
    }
   ],
   "source": [
    "category=category_atm\n",
    "\n",
    "category.reset_index(inplace=True,drop = True)\n",
    "ts = pd.Series(category['Absolute_amount'].values, index=category['monthly'])\n",
    "fit1 = ExponentialSmoothing(ts, seasonal_periods=2, trend='add', seasonal='add').fit(use_boxcox=True)\n",
    "\n",
    "df = pd.DataFrame(np.c_[ts, fit1.level, fit1.slope, fit1.season, fit1.fittedvalues],\n",
    "                  columns=[r'$y_t$',r'$l_t$',r'$b_t$',r'$s_t$',r'$\\hat{y}_t$'],index=ts.index)\n",
    "df_category = df.append(fit1.forecast(6).rename(r'$\\hat{y}_t$').to_frame(), sort=True)\n",
    "\n",
    "df_category.reset_index(inplace=True,drop = True)\n",
    "\n",
    "def month_inc(data):\n",
    "    recent_date = data['monthly'].max()\n",
    "    incr_date = pd.date_range(start=recent_date, periods=6, freq='M')\n",
    "    columns = ['monthly']\n",
    "    df = pd.DataFrame(incr_date, columns=columns)\n",
    "    frames = [data, df]\n",
    "    result = pd.concat(frames)\n",
    "    result.reset_index(inplace=True,drop = True)\n",
    "    return result\n",
    "\n",
    "category_data = month_inc(category)\n",
    "\n",
    "merged_category = category_data.merge(df_category, left_index=True, right_index=True)\n",
    "\n",
    "merged_atm_data = merged_category[['Absolute_amount','$\\hat{y}_t$']]\n",
    "\n",
    "merged_ATM_names = ['ATM_%s' % column for column in merged_atm_data.columns]\n",
    "merged_atm_data.columns = merged_ATM_names\n",
    "\n",
    "merged_atm_data.head(2)"
   ]
  },
  {
   "cell_type": "markdown",
   "metadata": {},
   "source": [
    "## <a id='6-2'>6.2 Rent </a>"
   ]
  },
  {
   "cell_type": "code",
   "execution_count": 1184,
   "metadata": {},
   "outputs": [
    {
     "data": {
      "text/plain": [
       "Series([], Name: Absolute_amount, dtype: int64)"
      ]
     },
     "execution_count": 1184,
     "metadata": {},
     "output_type": "execute_result"
    }
   ],
   "source": [
    "Rent = Rent.append({'Absolute_amount' : 1 , 'monthly' : '2016-05'} , ignore_index=True)\n",
    "category=Rent\n",
    "\n",
    "\n",
    "def out_std(s, nstd=3.0, return_thresholds=False):\n",
    "\n",
    "    data_mean, data_std = s.mean(), s.std()\n",
    "    cut_off = data_std * nstd\n",
    "    lower, upper = data_mean - cut_off, data_mean + cut_off\n",
    "    if return_thresholds:\n",
    "        return lower, upper\n",
    "    else:\n",
    "        return [True if x < lower or x > upper else False for x in s]\n",
    "    \n",
    "\n",
    "outlier_mask = out_std(category['Absolute_amount'], nstd=3.0)\n",
    "\n",
    "# Identify the outliers, notice these values are on both low and high\n",
    "\n",
    "category['Absolute_amount'][outlier_mask]"
   ]
  },
  {
   "cell_type": "code",
   "execution_count": 1185,
   "metadata": {},
   "outputs": [
    {
     "data": {
      "text/html": [
       "<div>\n",
       "<style scoped>\n",
       "    .dataframe tbody tr th:only-of-type {\n",
       "        vertical-align: middle;\n",
       "    }\n",
       "\n",
       "    .dataframe tbody tr th {\n",
       "        vertical-align: top;\n",
       "    }\n",
       "\n",
       "    .dataframe thead th {\n",
       "        text-align: right;\n",
       "    }\n",
       "</style>\n",
       "<table border=\"1\" class=\"dataframe\">\n",
       "  <thead>\n",
       "    <tr style=\"text-align: right;\">\n",
       "      <th></th>\n",
       "      <th>Rent_Absolute_amount</th>\n",
       "      <th>Rent_$\\hat{y}_t$</th>\n",
       "    </tr>\n",
       "  </thead>\n",
       "  <tbody>\n",
       "    <tr>\n",
       "      <th>0</th>\n",
       "      <td>1000.0</td>\n",
       "      <td>1000.0</td>\n",
       "    </tr>\n",
       "    <tr>\n",
       "      <th>1</th>\n",
       "      <td>1000.0</td>\n",
       "      <td>1000.0</td>\n",
       "    </tr>\n",
       "  </tbody>\n",
       "</table>\n",
       "</div>"
      ],
      "text/plain": [
       "   Rent_Absolute_amount  Rent_$\\hat{y}_t$\n",
       "0                1000.0            1000.0\n",
       "1                1000.0            1000.0"
      ]
     },
     "execution_count": 1185,
     "metadata": {},
     "output_type": "execute_result"
    }
   ],
   "source": [
    "category=Rent\n",
    "\n",
    "category.reset_index(inplace=True,drop = True)\n",
    "ts = pd.Series(category['Absolute_amount'].values, index=category['monthly'])\n",
    "fit1 = ExponentialSmoothing(ts, seasonal_periods=2, trend='add', seasonal='add').fit(use_boxcox=True)\n",
    "\n",
    "df = pd.DataFrame(np.c_[ts, fit1.level, fit1.slope, fit1.season, fit1.fittedvalues],\n",
    "                  columns=[r'$y_t$',r'$l_t$',r'$b_t$',r'$s_t$',r'$\\hat{y}_t$'],index=ts.index)\n",
    "df_Rent = df.append(fit1.forecast(6).rename(r'$\\hat{y}_t$').to_frame(), sort=True)\n",
    "\n",
    "df_Rent.reset_index(inplace=True,drop = True)\n",
    "\n",
    "def month_inc(data):\n",
    "    recent_date = data['monthly'].max()\n",
    "    incr_date = pd.date_range(start=recent_date, periods=6, freq='BM')\n",
    "    columns = ['monthly']\n",
    "    df = pd.DataFrame(incr_date, columns=columns)\n",
    "    frames = [data, df]\n",
    "    result = pd.concat(frames)\n",
    "    result.reset_index(inplace=True,drop = True)\n",
    "    return result\n",
    "\n",
    "Rent_data = month_inc(category)\n",
    "\n",
    "merged_Rent = Rent_data.merge(df_Rent, left_index=True, right_index=True)\n",
    "\n",
    "merged_Rent_data = merged_Rent[['Absolute_amount','$\\hat{y}_t$']]\n",
    "\n",
    "merged_Rent_names = ['Rent_%s' % column for column in merged_Rent_data.columns]\n",
    "merged_Rent_data.columns = merged_Rent_names\n",
    "\n",
    "merged_Rent_data.head(2)"
   ]
  },
  {
   "cell_type": "markdown",
   "metadata": {},
   "source": [
    "## <a id='6-3'>6.3 GasStation </a>"
   ]
  },
  {
   "cell_type": "code",
   "execution_count": 1186,
   "metadata": {},
   "outputs": [
    {
     "data": {
      "text/plain": [
       "Series([], Name: Absolute_amount, dtype: int64)"
      ]
     },
     "execution_count": 1186,
     "metadata": {},
     "output_type": "execute_result"
    }
   ],
   "source": [
    "category=GasStation\n",
    "\n",
    "def out_std(s, nstd=3.0, return_thresholds=False):\n",
    "\n",
    "    data_mean, data_std = s.mean(), s.std()\n",
    "    cut_off = data_std * nstd\n",
    "    lower, upper = data_mean - cut_off, data_mean + cut_off\n",
    "    if return_thresholds:\n",
    "        return lower, upper\n",
    "    else:\n",
    "        return [True if x < lower or x > upper else False for x in s]\n",
    "    \n",
    "\n",
    "outlier_mask = out_std(category['Absolute_amount'], nstd=3.0)\n",
    "\n",
    "# Identify the outliers, notice these values are on both low and high\n",
    "\n",
    "category['Absolute_amount'][outlier_mask]"
   ]
  },
  {
   "cell_type": "code",
   "execution_count": 1197,
   "metadata": {},
   "outputs": [
    {
     "data": {
      "text/html": [
       "<div>\n",
       "<style scoped>\n",
       "    .dataframe tbody tr th:only-of-type {\n",
       "        vertical-align: middle;\n",
       "    }\n",
       "\n",
       "    .dataframe tbody tr th {\n",
       "        vertical-align: top;\n",
       "    }\n",
       "\n",
       "    .dataframe thead th {\n",
       "        text-align: right;\n",
       "    }\n",
       "</style>\n",
       "<table border=\"1\" class=\"dataframe\">\n",
       "  <thead>\n",
       "    <tr style=\"text-align: right;\">\n",
       "      <th></th>\n",
       "      <th>Gas_Absolute_amount</th>\n",
       "      <th>Gas_$\\hat{y}_t$</th>\n",
       "    </tr>\n",
       "  </thead>\n",
       "  <tbody>\n",
       "    <tr>\n",
       "      <th>0</th>\n",
       "      <td>160.0</td>\n",
       "      <td>208.218959</td>\n",
       "    </tr>\n",
       "    <tr>\n",
       "      <th>1</th>\n",
       "      <td>190.0</td>\n",
       "      <td>166.147168</td>\n",
       "    </tr>\n",
       "    <tr>\n",
       "      <th>2</th>\n",
       "      <td>177.0</td>\n",
       "      <td>201.979032</td>\n",
       "    </tr>\n",
       "    <tr>\n",
       "      <th>3</th>\n",
       "      <td>199.0</td>\n",
       "      <td>164.641293</td>\n",
       "    </tr>\n",
       "    <tr>\n",
       "      <th>4</th>\n",
       "      <td>500.0</td>\n",
       "      <td>202.171533</td>\n",
       "    </tr>\n",
       "    <tr>\n",
       "      <th>5</th>\n",
       "      <td>155.0</td>\n",
       "      <td>197.537848</td>\n",
       "    </tr>\n",
       "    <tr>\n",
       "      <th>6</th>\n",
       "      <td>111.0</td>\n",
       "      <td>230.599902</td>\n",
       "    </tr>\n",
       "    <tr>\n",
       "      <th>7</th>\n",
       "      <td>60.0</td>\n",
       "      <td>170.553992</td>\n",
       "    </tr>\n",
       "    <tr>\n",
       "      <th>8</th>\n",
       "      <td>200.0</td>\n",
       "      <td>165.470311</td>\n",
       "    </tr>\n",
       "    <tr>\n",
       "      <th>9</th>\n",
       "      <td>190.0</td>\n",
       "      <td>139.337221</td>\n",
       "    </tr>\n",
       "    <tr>\n",
       "      <th>10</th>\n",
       "      <td>100.0</td>\n",
       "      <td>170.700850</td>\n",
       "    </tr>\n",
       "    <tr>\n",
       "      <th>11</th>\n",
       "      <td>NaN</td>\n",
       "      <td>127.500964</td>\n",
       "    </tr>\n",
       "    <tr>\n",
       "      <th>12</th>\n",
       "      <td>NaN</td>\n",
       "      <td>146.534566</td>\n",
       "    </tr>\n",
       "    <tr>\n",
       "      <th>13</th>\n",
       "      <td>NaN</td>\n",
       "      <td>119.479809</td>\n",
       "    </tr>\n",
       "    <tr>\n",
       "      <th>14</th>\n",
       "      <td>NaN</td>\n",
       "      <td>137.186589</td>\n",
       "    </tr>\n",
       "    <tr>\n",
       "      <th>15</th>\n",
       "      <td>NaN</td>\n",
       "      <td>112.012061</td>\n",
       "    </tr>\n",
       "    <tr>\n",
       "      <th>16</th>\n",
       "      <td>NaN</td>\n",
       "      <td>128.492554</td>\n",
       "    </tr>\n",
       "  </tbody>\n",
       "</table>\n",
       "</div>"
      ],
      "text/plain": [
       "    Gas_Absolute_amount  Gas_$\\hat{y}_t$\n",
       "0                 160.0       208.218959\n",
       "1                 190.0       166.147168\n",
       "2                 177.0       201.979032\n",
       "3                 199.0       164.641293\n",
       "4                 500.0       202.171533\n",
       "5                 155.0       197.537848\n",
       "6                 111.0       230.599902\n",
       "7                  60.0       170.553992\n",
       "8                 200.0       165.470311\n",
       "9                 190.0       139.337221\n",
       "10                100.0       170.700850\n",
       "11                  NaN       127.500964\n",
       "12                  NaN       146.534566\n",
       "13                  NaN       119.479809\n",
       "14                  NaN       137.186589\n",
       "15                  NaN       112.012061\n",
       "16                  NaN       128.492554"
      ]
     },
     "execution_count": 1197,
     "metadata": {},
     "output_type": "execute_result"
    }
   ],
   "source": [
    "category=GasStation\n",
    "\n",
    "category.reset_index(inplace=True,drop = True)\n",
    "ts = pd.Series(category['Absolute_amount'].values, index=category['monthly'])\n",
    "fit1 = ExponentialSmoothing(ts, seasonal_periods=2, trend='add', seasonal='add').fit(use_boxcox=True)\n",
    "\n",
    "df = pd.DataFrame(np.c_[ts, fit1.level, fit1.slope, fit1.season, fit1.fittedvalues],\n",
    "                  columns=[r'$y_t$',r'$l_t$',r'$b_t$',r'$s_t$',r'$\\hat{y}_t$'],index=ts.index)\n",
    "df_Rent = df.append(fit1.forecast(6).rename(r'$\\hat{y}_t$').to_frame(), sort=True)\n",
    "\n",
    "df_Rent.reset_index(inplace=True,drop = True)\n",
    "\n",
    "def month_inc(data):\n",
    "    recent_date = data['monthly'].max()\n",
    "    incr_date = pd.date_range(start=recent_date, periods=6, freq='BMMa ')\n",
    "    columns = ['monthly']\n",
    "    df = pd.DataFrame(incr_date, columns=columns)\n",
    "    frames = [data, df]\n",
    "    result = pd.concat(frames)\n",
    "    result.reset_index(inplace=True,drop = True)\n",
    "    return result\n",
    "\n",
    "GasStation_data = month_inc(category)\n",
    "\n",
    "merged_GasStation = GasStation_data.merge(df_Rent, left_index=True, right_index=True)\n",
    "\n",
    "merged_GasStation_data = merged_GasStation[['Absolute_amount','$\\hat{y}_t$']]\n",
    "\n",
    "merged_GasStation_names = ['Gas_%s' % column for column in merged_GasStation_data.columns]\n",
    "merged_GasStation_data.columns = merged_GasStation_names"
   ]
  },
  {
   "cell_type": "markdown",
   "metadata": {},
   "source": [
    "## <a id='6-4'>6.4 Installment </a>"
   ]
  },
  {
   "cell_type": "code",
   "execution_count": 1188,
   "metadata": {},
   "outputs": [
    {
     "data": {
      "text/plain": [
       "Series([], Name: Absolute_amount, dtype: int64)"
      ]
     },
     "execution_count": 1188,
     "metadata": {},
     "output_type": "execute_result"
    }
   ],
   "source": [
    "category=Installment\n",
    "\n",
    "def out_std(s, nstd=3.0, return_thresholds=False):\n",
    "\n",
    "    data_mean, data_std = s.mean(), s.std()\n",
    "    cut_off = data_std * nstd\n",
    "    lower, upper = data_mean - cut_off, data_mean + cut_off\n",
    "    if return_thresholds:\n",
    "        return lower, upper\n",
    "    else:\n",
    "        return [True if x < lower or x > upper else False for x in s]\n",
    "    \n",
    "\n",
    "outlier_mask = out_std(category['Absolute_amount'], nstd=3.0)\n",
    "\n",
    "# Identify the outliers, notice these values are on both low and high\n",
    "\n",
    "category['Absolute_amount'][outlier_mask]"
   ]
  },
  {
   "cell_type": "code",
   "execution_count": 1189,
   "metadata": {},
   "outputs": [
    {
     "data": {
      "text/html": [
       "<div>\n",
       "<style scoped>\n",
       "    .dataframe tbody tr th:only-of-type {\n",
       "        vertical-align: middle;\n",
       "    }\n",
       "\n",
       "    .dataframe tbody tr th {\n",
       "        vertical-align: top;\n",
       "    }\n",
       "\n",
       "    .dataframe thead th {\n",
       "        text-align: right;\n",
       "    }\n",
       "</style>\n",
       "<table border=\"1\" class=\"dataframe\">\n",
       "  <thead>\n",
       "    <tr style=\"text-align: right;\">\n",
       "      <th></th>\n",
       "      <th>Install_Absolute_amount</th>\n",
       "      <th>Install_$\\hat{y}_t$</th>\n",
       "    </tr>\n",
       "  </thead>\n",
       "  <tbody>\n",
       "    <tr>\n",
       "      <th>0</th>\n",
       "      <td>160.0</td>\n",
       "      <td>160.0</td>\n",
       "    </tr>\n",
       "    <tr>\n",
       "      <th>1</th>\n",
       "      <td>160.0</td>\n",
       "      <td>160.0</td>\n",
       "    </tr>\n",
       "  </tbody>\n",
       "</table>\n",
       "</div>"
      ],
      "text/plain": [
       "   Install_Absolute_amount  Install_$\\hat{y}_t$\n",
       "0                    160.0                160.0\n",
       "1                    160.0                160.0"
      ]
     },
     "execution_count": 1189,
     "metadata": {},
     "output_type": "execute_result"
    }
   ],
   "source": [
    "category=Installment\n",
    "\n",
    "category.reset_index(inplace=True,drop = True)\n",
    "ts = pd.Series(category['Absolute_amount'].values, index=category['monthly'])\n",
    "fit1 = ExponentialSmoothing(ts, seasonal_periods=2, trend='add', seasonal='add').fit(use_boxcox=True)\n",
    "\n",
    "df = pd.DataFrame(np.c_[ts, fit1.level, fit1.slope, fit1.season, fit1.fittedvalues],\n",
    "                  columns=[r'$y_t$',r'$l_t$',r'$b_t$',r'$s_t$',r'$\\hat{y}_t$'],index=ts.index)\n",
    "df_Rent = df.append(fit1.forecast(6).rename(r'$\\hat{y}_t$').to_frame(), sort=True)\n",
    "\n",
    "df_Rent.reset_index(inplace=True,drop = True)\n",
    "\n",
    "def month_inc(data):\n",
    "    recent_date = data['monthly'].max()\n",
    "    incr_date = pd.date_range(start=recent_date, periods=6, freq='BM')\n",
    "    columns = ['monthly']\n",
    "    df = pd.DataFrame(incr_date, columns=columns)\n",
    "    frames = [data, df]\n",
    "    result = pd.concat(frames)\n",
    "    result.reset_index(inplace=True,drop = True)\n",
    "    return result\n",
    "\n",
    "Installment_data = month_inc(category)\n",
    "\n",
    "merged_Installment = Installment_data.merge(df_Rent, left_index=True, right_index=True)\n",
    "\n",
    "merged_Installment_data = merged_Installment[['Absolute_amount','$\\hat{y}_t$']]\n",
    "\n",
    "\n",
    "\n",
    "Installment_names = ['Install_%s' % column for column in merged_Installment_data.columns]\n",
    "merged_Installment_data.columns = Installment_names\n",
    "\n",
    "merged_Installment_data.head(2)"
   ]
  },
  {
   "cell_type": "markdown",
   "metadata": {},
   "source": [
    "---------------------------------"
   ]
  },
  {
   "cell_type": "markdown",
   "metadata": {},
   "source": [
    " # <a id='Yeah 7'>7. Combining the Forecast for all the categories </a>"
   ]
  },
  {
   "cell_type": "markdown",
   "metadata": {},
   "source": [
    "--------"
   ]
  },
  {
   "cell_type": "code",
   "execution_count": 1198,
   "metadata": {},
   "outputs": [],
   "source": [
    "data_set = data[['accountNo']].head(17)\n"
   ]
  },
  {
   "cell_type": "code",
   "execution_count": 1199,
   "metadata": {},
   "outputs": [],
   "source": [
    "df_final = pd.concat([data_set,merged_sal,merged_Unknown_data,merged_atm_data,\n",
    "                     merged_Rent_data,merged_GasStation_data,merged_Installment_data],axis=1,sort=False).reset_index()"
   ]
  },
  {
   "cell_type": "code",
   "execution_count": 1200,
   "metadata": {},
   "outputs": [],
   "source": [
    "df_final['Monthly'] = pd.to_datetime(df_final['Sal_monthly']).dt.to_period('M')\n",
    "\n",
    "Final_Forecast_value = df_final[['accountNo','Monthly','Sal_Absolute_amount',\n",
    "       'Sal_$\\hat{y}_t$', 'Unknown_Absolute_amount', 'Unknown_$\\hat{y}_t$',\n",
    "       'ATM_Absolute_amount', 'ATM_$\\hat{y}_t$', 'Rent_Absolute_amount',\n",
    "       'Rent_$\\hat{y}_t$', 'Gas_Absolute_amount', 'Gas_$\\hat{y}_t$',\n",
    "       'Install_Absolute_amount', 'Install_$\\hat{y}_t$']]\n",
    "\n",
    "Final_Forecast_value.drop(Final_Forecast_value.tail(1).index,inplace=True)"
   ]
  },
  {
   "cell_type": "markdown",
   "metadata": {},
   "source": [
    "## The below table has \n",
    "\n",
    "### 1. Absolute_amount --- Actual Amount\n",
    "### 2.  𝑦̂ 𝑡  ----  Fitted values "
   ]
  },
  {
   "cell_type": "code",
   "execution_count": 1218,
   "metadata": {},
   "outputs": [
    {
     "data": {
      "text/html": [
       "<div>\n",
       "<style scoped>\n",
       "    .dataframe tbody tr th:only-of-type {\n",
       "        vertical-align: middle;\n",
       "    }\n",
       "\n",
       "    .dataframe tbody tr th {\n",
       "        vertical-align: top;\n",
       "    }\n",
       "\n",
       "    .dataframe thead th {\n",
       "        text-align: right;\n",
       "    }\n",
       "</style>\n",
       "<table border=\"1\" class=\"dataframe\">\n",
       "  <thead>\n",
       "    <tr style=\"text-align: right;\">\n",
       "      <th></th>\n",
       "      <th>accountNo</th>\n",
       "      <th>Monthly</th>\n",
       "      <th>Sal_Absolute_amount</th>\n",
       "      <th>Sal_$\\hat{y}_t$</th>\n",
       "      <th>Unknown_Absolute_amount</th>\n",
       "      <th>Unknown_$\\hat{y}_t$</th>\n",
       "      <th>ATM_Absolute_amount</th>\n",
       "      <th>ATM_$\\hat{y}_t$</th>\n",
       "      <th>Rent_Absolute_amount</th>\n",
       "      <th>Rent_$\\hat{y}_t$</th>\n",
       "      <th>Gas_Absolute_amount</th>\n",
       "      <th>Gas_$\\hat{y}_t$</th>\n",
       "      <th>Install_Absolute_amount</th>\n",
       "      <th>Install_$\\hat{y}_t$</th>\n",
       "    </tr>\n",
       "  </thead>\n",
       "  <tbody>\n",
       "    <tr>\n",
       "      <th>13</th>\n",
       "      <td>781.0</td>\n",
       "      <td>2016-07</td>\n",
       "      <td>NaN</td>\n",
       "      <td>4434.265312</td>\n",
       "      <td>NaN</td>\n",
       "      <td>450.0</td>\n",
       "      <td>NaN</td>\n",
       "      <td>74.762194</td>\n",
       "      <td>NaN</td>\n",
       "      <td>956.503934</td>\n",
       "      <td>NaN</td>\n",
       "      <td>119.479809</td>\n",
       "      <td>NaN</td>\n",
       "      <td>160.400599</td>\n",
       "    </tr>\n",
       "    <tr>\n",
       "      <th>14</th>\n",
       "      <td>781.0</td>\n",
       "      <td>2016-08</td>\n",
       "      <td>NaN</td>\n",
       "      <td>3538.345352</td>\n",
       "      <td>NaN</td>\n",
       "      <td>450.0</td>\n",
       "      <td>NaN</td>\n",
       "      <td>67.089813</td>\n",
       "      <td>NaN</td>\n",
       "      <td>953.594139</td>\n",
       "      <td>NaN</td>\n",
       "      <td>137.186589</td>\n",
       "      <td>NaN</td>\n",
       "      <td>160.423579</td>\n",
       "    </tr>\n",
       "    <tr>\n",
       "      <th>15</th>\n",
       "      <td>781.0</td>\n",
       "      <td>2016-09</td>\n",
       "      <td>NaN</td>\n",
       "      <td>4356.306583</td>\n",
       "      <td>NaN</td>\n",
       "      <td>450.0</td>\n",
       "      <td>NaN</td>\n",
       "      <td>60.238694</td>\n",
       "      <td>NaN</td>\n",
       "      <td>950.687706</td>\n",
       "      <td>NaN</td>\n",
       "      <td>112.012061</td>\n",
       "      <td>NaN</td>\n",
       "      <td>160.446559</td>\n",
       "    </tr>\n",
       "    <tr>\n",
       "      <th>16</th>\n",
       "      <td>781.0</td>\n",
       "      <td>2016-10</td>\n",
       "      <td>NaN</td>\n",
       "      <td>3437.507773</td>\n",
       "      <td>NaN</td>\n",
       "      <td>450.0</td>\n",
       "      <td>NaN</td>\n",
       "      <td>54.117337</td>\n",
       "      <td>NaN</td>\n",
       "      <td>947.784637</td>\n",
       "      <td>NaN</td>\n",
       "      <td>128.492554</td>\n",
       "      <td>NaN</td>\n",
       "      <td>160.469538</td>\n",
       "    </tr>\n",
       "    <tr>\n",
       "      <th>17</th>\n",
       "      <td>NaN</td>\n",
       "      <td>2016-11</td>\n",
       "      <td>NaN</td>\n",
       "      <td>4276.763362</td>\n",
       "      <td>NaN</td>\n",
       "      <td>450.0</td>\n",
       "      <td>NaN</td>\n",
       "      <td>48.644830</td>\n",
       "      <td>NaN</td>\n",
       "      <td>944.884936</td>\n",
       "      <td>NaN</td>\n",
       "      <td>NaN</td>\n",
       "      <td>NaN</td>\n",
       "      <td>160.492516</td>\n",
       "    </tr>\n",
       "  </tbody>\n",
       "</table>\n",
       "</div>"
      ],
      "text/plain": [
       "    accountNo  Monthly  Sal_Absolute_amount  Sal_$\\hat{y}_t$  \\\n",
       "13      781.0  2016-07                  NaN      4434.265312   \n",
       "14      781.0  2016-08                  NaN      3538.345352   \n",
       "15      781.0  2016-09                  NaN      4356.306583   \n",
       "16      781.0  2016-10                  NaN      3437.507773   \n",
       "17        NaN  2016-11                  NaN      4276.763362   \n",
       "\n",
       "    Unknown_Absolute_amount  Unknown_$\\hat{y}_t$  ATM_Absolute_amount  \\\n",
       "13                      NaN                450.0                  NaN   \n",
       "14                      NaN                450.0                  NaN   \n",
       "15                      NaN                450.0                  NaN   \n",
       "16                      NaN                450.0                  NaN   \n",
       "17                      NaN                450.0                  NaN   \n",
       "\n",
       "    ATM_$\\hat{y}_t$  Rent_Absolute_amount  Rent_$\\hat{y}_t$  \\\n",
       "13        74.762194                   NaN        956.503934   \n",
       "14        67.089813                   NaN        953.594139   \n",
       "15        60.238694                   NaN        950.687706   \n",
       "16        54.117337                   NaN        947.784637   \n",
       "17        48.644830                   NaN        944.884936   \n",
       "\n",
       "    Gas_Absolute_amount  Gas_$\\hat{y}_t$  Install_Absolute_amount  \\\n",
       "13                  NaN       119.479809                      NaN   \n",
       "14                  NaN       137.186589                      NaN   \n",
       "15                  NaN       112.012061                      NaN   \n",
       "16                  NaN       128.492554                      NaN   \n",
       "17                  NaN              NaN                      NaN   \n",
       "\n",
       "    Install_$\\hat{y}_t$  \n",
       "13           160.400599  \n",
       "14           160.423579  \n",
       "15           160.446559  \n",
       "16           160.469538  \n",
       "17           160.492516  "
      ]
     },
     "execution_count": 1218,
     "metadata": {},
     "output_type": "execute_result"
    }
   ],
   "source": [
    "Final_Forecast_value.tail()\n"
   ]
  },
  {
   "cell_type": "code",
   "execution_count": 1216,
   "metadata": {},
   "outputs": [
    {
     "data": {
      "text/plain": [
       "<matplotlib.axes._subplots.AxesSubplot at 0x1c31c66860>"
      ]
     },
     "execution_count": 1216,
     "metadata": {},
     "output_type": "execute_result"
    },
    {
     "data": {
      "image/png": "[encoded data removed]",
      "text/plain": [
       "<Figure size 1080x360 with 1 Axes>"
      ]
     },
     "metadata": {
      "needs_background": "light"
     },
     "output_type": "display_data"
    }
   ],
   "source": [
    "cols= ['Sal_$\\hat{y}_t$','Unknown_$\\hat{y}_t$','ATM_$\\hat{y}_t$','Rent_$\\hat{y}_t$','Gas_$\\hat{y}_t$','Install_$\\hat{y}_t$']\n",
    "Final_Forecast_value[cols] = Final_Forecast_value[cols].apply(pd.to_numeric, errors='coerce')\n",
    "\n",
    "Final_Forecast_fig = Final_Forecast_value[['Monthly','Sal_$\\hat{y}_t$','Unknown_$\\hat{y}_t$','ATM_$\\hat{y}_t$','Rent_$\\hat{y}_t$','Gas_$\\hat{y}_t$','Install_$\\hat{y}_t$']]\n",
    "# plot data\n",
    "fig, ax = plt.subplots(figsize=(15,5))\n",
    "Final_Forecast_fig.plot(ax=ax)"
   ]
  },
  {
   "cell_type": "code",
   "execution_count": null,
   "metadata": {},
   "outputs": [],
   "source": []
  }
 ],
 "metadata": {
  "kernelspec": {
   "display_name": "Python 3",
   "language": "python",
   "name": "python3"
  },
  "language_info": {
   "codemirror_mode": {
    "name": "ipython",
    "version": 3
   },
   "file_extension": ".py",
   "mimetype": "text/x-python",
   "name": "python",
   "nbconvert_exporter": "python",
   "pygments_lexer": "ipython3",
   "version": "3.7.7"
  }
 },
 "nbformat": 4,
 "nbformat_minor": 2
}
